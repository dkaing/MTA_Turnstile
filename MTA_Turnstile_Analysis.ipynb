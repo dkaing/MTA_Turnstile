{
 "cells": [
  {
   "cell_type": "code",
   "execution_count": 1,
   "metadata": {
    "collapsed": true
   },
   "outputs": [],
   "source": [
    "from bs4 import BeautifulSoup\n",
    "from urllib.request import urlopen\n",
    "import pandas as pd\n",
    "from datetime import datetime as dt\n",
    "import numpy as np\n",
    "pd.options.mode.chained_assignment = None\n",
    "from scipy import stats\n",
    "import matplotlib.pyplot as plt\n",
    "%matplotlib inline\n"
   ]
  },
  {
   "cell_type": "code",
   "execution_count": 2,
   "metadata": {
    "collapsed": true
   },
   "outputs": [],
   "source": [
    "def parse_html(mta_url):\n",
    "    \"\"\"\n",
    "    Parse html data from mta url (http://web.mta.info/developers/turnstile.html')\n",
    "    \"\"\"\n",
    "    umta = urlopen(mta_url)\n",
    "    mta_page = umta.read()\n",
    "    \n",
    "    # parse html data\n",
    "    mta_html = BeautifulSoup(mta_page, 'html.parser')\n",
    "    umta.close()\n",
    "    return mta_html"
   ]
  },
  {
   "cell_type": "code",
   "execution_count": 3,
   "metadata": {
    "collapsed": true
   },
   "outputs": [],
   "source": [
    "def get_data_links(mta_html):\n",
    "    \"\"\"\n",
    "    From parsed html data, extract the links to the turnstile datasets\n",
    "    \"\"\"\n",
    "    data = mta_html.findAll('div', attrs = {'class': 'span-84 last'})\n",
    "    data_links = []\n",
    "    for div in data:\n",
    "        links = div.findAll('a')\n",
    "        for l in links:\n",
    "            data_links.append(l['href'])\n",
    "    return data_links"
   ]
  },
  {
   "cell_type": "code",
   "execution_count": 4,
   "metadata": {
    "collapsed": true
   },
   "outputs": [],
   "source": [
    "def read_turnstile_before_141018(data_link):\n",
    "    \"\"\"\n",
    "    Read turnstile dataset\n",
    "    \"\"\"\n",
    "\n",
    "    col_names = [\"C/A\",\"UNIT\",\"SCP\",\"DATE1\",\"TIME1\",\"DESC1\",\"ENTRIES1\",\n",
    "             \"EXITS1\",\"DATE2\",\"TIME2\",\"DESC2\",\"ENTRIES2\",\"EXITS2\",\n",
    "             \"DATE3\",\"TIME3\",\"DESC3\",\"ENTRIES3\",\"EXITS3\",\"DATE4\",\n",
    "             \"TIME4\",\"DESC4\",\"ENTRIES4\",\"EXITS4\",\"DATE5\",\"TIME5\",\n",
    "             \"DESC5\",\"ENTRIES5\",\"EXITS5\",\"DATE6\",\"TIME6\",\"DESC6\",\n",
    "             \"ENTRIES6\",\"EXITS6\",\"DATE7\",\"TIME7\",\"DESC7\",\"ENTRIES7\",\n",
    "             \"EXITS7\",\"DATE8\",\"TIME8\",\"DESC8\",\"ENTRIES8\",\"EXITS8\"]\n",
    "    \n",
    "    parsed_df = pd.read_csv('http://web.mta.info/developers/' + \n",
    "                            data_link, header = None, names = col_names)\n",
    "    return parsed_df"
   ]
  },
  {
   "cell_type": "code",
   "execution_count": 5,
   "metadata": {
    "collapsed": true
   },
   "outputs": [],
   "source": [
    "def read_remote_booth_station():\n",
    "    \"\"\"\n",
    "    Read in 'Remote-Booth-Station.xls' dataset downloaded from the website\n",
    "    \"\"\"\n",
    "    remote_booth_station_path = \"~/Downloads/Remote-Booth-Station.xls\"\n",
    "    remote_booth_station = pd.read_excel(remote_booth_station_path)\n",
    "    remote_booth_station.columns = ['UNIT', 'C/A', 'STATION', 'LINE_NAME', 'DIVISION']\n",
    "    \n",
    "\n",
    "    return remote_booth_station"
   ]
  },
  {
   "cell_type": "code",
   "execution_count": 6,
   "metadata": {
    "collapsed": true
   },
   "outputs": [],
   "source": [
    "remote_booth_station = read_remote_booth_station()"
   ]
  },
  {
   "cell_type": "markdown",
   "metadata": {},
   "source": [
    "### Q1. Which station has the most number of units as of today?"
   ]
  },
  {
   "cell_type": "code",
   "execution_count": 7,
   "metadata": {
    "collapsed": true
   },
   "outputs": [],
   "source": [
    "def station_unit_after_141018(link):\n",
    "    \"\"\"\n",
    "    Read turnstile data using specified link from the website. \n",
    "    Store station (key) and units (value) in a dictionary.\n",
    "    \"\"\"\n",
    "    station_unit = {}\n",
    "    \n",
    "    data_txt= 'http://web.mta.info/developers/' + link\n",
    "    data = urlopen(data_txt)\n",
    "\n",
    "    for l in data:\n",
    "        line = str(l.decode(\"utf-8\").strip(' \\n\\t')).split(',')\n",
    "        \n",
    "        unit = line[1]\n",
    "        station = line[3]\n",
    "\n",
    "        if unit == 'UNIT':\n",
    "            continue\n",
    "        elif (station in station_unit):\n",
    "            station_unit[station].add(unit)\n",
    "        else:\n",
    "            station_unit[station] = set([unit])\n",
    "            \n",
    "    return station_unit"
   ]
  },
  {
   "cell_type": "code",
   "execution_count": 8,
   "metadata": {
    "collapsed": true
   },
   "outputs": [],
   "source": [
    "def count_unique_units(station_unit):\n",
    "    \"\"\"\n",
    "    Count the unique number of units for each station.\n",
    "    \"\"\"\n",
    "    counts = {key: len(value) for key, value in \n",
    "              station_unit.items()}\n",
    "    return counts"
   ]
  },
  {
   "cell_type": "code",
   "execution_count": 9,
   "metadata": {
    "collapsed": true
   },
   "outputs": [],
   "source": [
    "def top_station(station_unit):\n",
    "    \"\"\"\n",
    "    Return top station with the most units.\n",
    "    \"\"\"\n",
    "    station_unit_180324_count = count_unique_units(station_unit)\n",
    "    output = sorted(station_unit_180324_count.items(), \n",
    "                    key = lambda x: x[1], reverse = True)[0]\n",
    "    return output"
   ]
  },
  {
   "cell_type": "code",
   "execution_count": 10,
   "metadata": {
    "collapsed": true
   },
   "outputs": [],
   "source": [
    "mta_url = 'http://web.mta.info/developers/turnstile.html'\n",
    "\n",
    "mta_html = parse_html(mta_url)\n",
    "data_links = get_data_links(mta_html)\n",
    "station_unit = station_unit_after_141018(data_links[0])"
   ]
  },
  {
   "cell_type": "code",
   "execution_count": 11,
   "metadata": {},
   "outputs": [
    {
     "data": {
      "text/plain": [
       "('23 ST', 6)"
      ]
     },
     "execution_count": 11,
     "metadata": {},
     "output_type": "execute_result"
    }
   ],
   "source": [
    "top_station(station_unit)"
   ]
  },
  {
   "cell_type": "markdown",
   "metadata": {},
   "source": [
    "**Result:** '23 ST' station has the most number of units as of today."
   ]
  },
  {
   "cell_type": "markdown",
   "metadata": {},
   "source": [
    "**Method:** The assumption is that the lastest data is representative of all of MTA's activities. \n",
    "1. Read the data from the webpage and storing it in a dictionary with the key as station and value as unit - *station_unit_after_141018(link)*  \n",
    "2. Count the number of unique units in each station - *count_unique_units(station_unit)*    \n",
    "3. Return the station with the most unique units - *top_station(station_unit)*"
   ]
  },
  {
   "cell_type": "markdown",
   "metadata": {},
   "source": [
    "### Q2. What is the total number of entries & exits across the subway system for August 1, 2013?"
   ]
  },
  {
   "cell_type": "code",
   "execution_count": 12,
   "metadata": {
    "collapsed": true
   },
   "outputs": [],
   "source": [
    "def read_2013_data(data_links):\n",
    "    \"\"\"\n",
    "    Read in all of 2013 datasets.\n",
    "    \"\"\"\n",
    "    links_2013 = [link for link in data_links if '_13' in link]\n",
    "    all_2013_df_list = [read_turnstile_before_141018(link) for link in links_2013]\n",
    "    all_2013_df = pd.concat(all_2013_df_list)\n",
    "    \n",
    "    return all_2013_df"
   ]
  },
  {
   "cell_type": "code",
   "execution_count": 13,
   "metadata": {
    "collapsed": true
   },
   "outputs": [],
   "source": [
    "def get_stacked_datasets(all_2013_df):\n",
    "    \"\"\"\n",
    "    The dataset has the following columns: \n",
    "    C/A,UNIT,SCP,DATE1,TIME1,DESC1,ENTRIES1,EXITS1,DATE2,\n",
    "    TIME2,DESC2,ENTRIES2,EXITS2,DATE3,TIME3,DESC3,ENTRIES3,\n",
    "    EXITS3,DATE4,TIME4,DESC4,ENTRIES4,EXITS4,DATE5,TIME5,\n",
    "    DESC5,ENTRIES5,EXITS5,DATE6,TIME6,DESC6,ENTRIES6,\n",
    "    EXITS6,DATE7,TIME7,DESC7,ENTRIES7,EXITS7,DATE8,\n",
    "    TIME8,DESC8,ENTRIES8,EXITS8. Reformat the data such that\n",
    "    DATE, TIME, DESC, ENTRIES, EXITS are stacked on top of \n",
    "    each other.\n",
    "    \"\"\"\n",
    "    columns = all_2013_df.columns\n",
    "    data_by_idx = []\n",
    "    for i in range(1, 9):\n",
    "        col_subset = columns[[str(i) in col for col in columns]]\n",
    "        dat = all_2013_df[col_subset]\n",
    "        dat.columns = ['DATE', 'TIME', 'DESC', 'ENTRIES', 'EXITS']\n",
    "        data_by_idx.append(dat)\n",
    "    return data_by_idx"
   ]
  },
  {
   "cell_type": "code",
   "execution_count": 14,
   "metadata": {
    "collapsed": true
   },
   "outputs": [],
   "source": [
    "def reformat_stacked_datasets(all_2013_df):\n",
    "    \"\"\"\n",
    "    Combine stacked datasets from 'get_stacked_datasets' with\n",
    "    'C/A', UNIT, and SCP data.\n",
    "    \"\"\"\n",
    "    \n",
    "    data_by_idx = get_stacked_datasets(all_2013_df)\n",
    "    all_data_by_idx = pd.concat(data_by_idx, axis = 0, ignore_index = True)\n",
    "    ca_unit = pd.concat([all_2013_df.iloc[:, :3]]*8, ignore_index = True)\n",
    "    proc_df = pd.concat([ca_unit, all_data_by_idx], axis = 1)\n",
    "\n",
    "    return proc_df"
   ]
  },
  {
   "cell_type": "code",
   "execution_count": 15,
   "metadata": {
    "collapsed": true
   },
   "outputs": [],
   "source": [
    "def merge_stacked_remote_clean(proc_df, remote_booth_station):\n",
    "    \"\"\"\n",
    "    Merge the stacked dataset to remote-booth-station to get \n",
    "    station names. Remove duplicates and missing values (only \n",
    "    1.82% of data). Create datetime and turnstile columns.\n",
    "    \"\"\"\n",
    "    \n",
    "    merge_proc_df = proc_df.merge(remote_booth_station, \n",
    "                                  how = 'left', \n",
    "                                  on = ['UNIT', 'C/A'])\n",
    "    merge_proc_df = merge_proc_df.drop_duplicates()\n",
    "    \n",
    "    merged_proc_dropped_na = merge_proc_df.dropna()\n",
    "    \n",
    "    date = merged_proc_dropped_na.DATE.astype(str) \n",
    "    time = merged_proc_dropped_na.TIME.astype(str)\n",
    "\n",
    "    merged_proc_dropped_na['DATETIME'] = (date + ' ' + time)\n",
    "    \n",
    "    merged_proc_dropped_na['TURNSTILE'] = (merged_proc_dropped_na['C/A'] + '_' +\n",
    "                                       merged_proc_dropped_na['UNIT'] + '_' +\n",
    "                                       merged_proc_dropped_na['SCP'])\n",
    "    \n",
    "    return merged_proc_dropped_na"
   ]
  },
  {
   "cell_type": "code",
   "execution_count": 16,
   "metadata": {
    "collapsed": true
   },
   "outputs": [],
   "source": [
    "def sort_diff(df):\n",
    "    \"\"\"\n",
    "    The current extrie and exit values are not in counts, \n",
    "    get counts by using pd.Series.diff().\n",
    "    \"\"\"\n",
    "    sorted_df = df.sort_values('DATETIME')\n",
    "    sorted_df['ENTRIES_DIFF'] = sorted_df.ENTRIES.diff()\n",
    "    sorted_df['EXITS_DIFF'] = sorted_df.EXITS.diff()\n",
    "    return sorted_df"
   ]
  },
  {
   "cell_type": "code",
   "execution_count": 17,
   "metadata": {
    "collapsed": true
   },
   "outputs": [],
   "source": [
    "def fill_na_neg_zero(df):\n",
    "    \"\"\"\n",
    "    Fill in missing and negative values with zero. \n",
    "    Negative values mean that it took the difference \n",
    "    of the opening data and the previous closing data.\n",
    "    \"\"\"\n",
    "    df['ENTRIES_DIFF'][df['ENTRIES_DIFF'].isnull()] = 0\n",
    "    df['ENTRIES_DIFF'][df['ENTRIES_DIFF']<0] = 0\n",
    "    \n",
    "    df['EXITS_DIFF'][df['EXITS_DIFF'].isnull()] = 0\n",
    "    df['EXITS_DIFF'][df['EXITS_DIFF']<0] = 0\n",
    "    \n",
    "    return df"
   ]
  },
  {
   "cell_type": "code",
   "execution_count": 18,
   "metadata": {
    "collapsed": true
   },
   "outputs": [],
   "source": [
    "def process_sorted_diff_df_2013(data_links):\n",
    "    \"\"\"\n",
    "    Process the data using the functions above.\n",
    "    \"\"\"\n",
    "    \n",
    "    all_2013_df = read_2013_data(data_links)\n",
    "    proc_df = reformat_stacked_datasets(all_2013_df)\n",
    "    merged_proc_dropped_na = merge_stacked_remote_clean(proc_df, remote_booth_station)\n",
    "    \n",
    "    grouped = merged_proc_dropped_na.groupby('TURNSTILE')\n",
    "    sorted_diff_df = grouped.apply(lambda x: sort_diff(x)).reset_index(drop = True)\n",
    "    \n",
    "    proc_sorted_diff_df = fill_na_neg_zero(sorted_diff_df)\n",
    "\n",
    "    return proc_sorted_diff_df"
   ]
  },
  {
   "cell_type": "code",
   "execution_count": 19,
   "metadata": {
    "collapsed": true
   },
   "outputs": [],
   "source": [
    "def filter_outliers(proc_sorted_diff_df):\n",
    "    \"\"\"\n",
    "    Remove outliers that are above 99.99 percentile of \n",
    "    entries_diff.\n",
    "    \"\"\"\n",
    "    outlier_threshold = np.percentile(proc_sorted_diff_df['ENTRIES_DIFF'], 99.99)\n",
    "    proc_sorted_diff_df = proc_sorted_diff_df[proc_sorted_diff_df <=outlier_threshold]\n",
    "\n",
    "    return proc_sorted_diff_df"
   ]
  },
  {
   "cell_type": "code",
   "execution_count": 20,
   "metadata": {
    "collapsed": true
   },
   "outputs": [],
   "source": [
    "proc_sorted_diff_df = process_sorted_diff_df_2013(data_links)"
   ]
  },
  {
   "cell_type": "code",
   "execution_count": 21,
   "metadata": {},
   "outputs": [
    {
     "data": {
      "text/html": [
       "<div>\n",
       "<style>\n",
       "    .dataframe thead tr:only-child th {\n",
       "        text-align: right;\n",
       "    }\n",
       "\n",
       "    .dataframe thead th {\n",
       "        text-align: left;\n",
       "    }\n",
       "\n",
       "    .dataframe tbody tr th {\n",
       "        vertical-align: top;\n",
       "    }\n",
       "</style>\n",
       "<table border=\"1\" class=\"dataframe\">\n",
       "  <thead>\n",
       "    <tr style=\"text-align: right;\">\n",
       "      <th></th>\n",
       "      <th>ENTRIES_DIFF</th>\n",
       "      <th>EXITS_DIFF</th>\n",
       "    </tr>\n",
       "  </thead>\n",
       "  <tbody>\n",
       "    <tr>\n",
       "      <th>count</th>\n",
       "      <td>1.125958e+07</td>\n",
       "      <td>1.125958e+07</td>\n",
       "    </tr>\n",
       "    <tr>\n",
       "      <th>mean</th>\n",
       "      <td>2.083340e+03</td>\n",
       "      <td>1.546934e+03</td>\n",
       "    </tr>\n",
       "    <tr>\n",
       "      <th>std</th>\n",
       "      <td>8.619143e+05</td>\n",
       "      <td>8.719271e+05</td>\n",
       "    </tr>\n",
       "    <tr>\n",
       "      <th>min</th>\n",
       "      <td>0.000000e+00</td>\n",
       "      <td>0.000000e+00</td>\n",
       "    </tr>\n",
       "    <tr>\n",
       "      <th>25%</th>\n",
       "      <td>2.000000e+00</td>\n",
       "      <td>1.000000e+00</td>\n",
       "    </tr>\n",
       "    <tr>\n",
       "      <th>50%</th>\n",
       "      <td>5.200000e+01</td>\n",
       "      <td>3.700000e+01</td>\n",
       "    </tr>\n",
       "    <tr>\n",
       "      <th>75%</th>\n",
       "      <td>2.100000e+02</td>\n",
       "      <td>1.450000e+02</td>\n",
       "    </tr>\n",
       "    <tr>\n",
       "      <th>max</th>\n",
       "      <td>9.314769e+08</td>\n",
       "      <td>9.719247e+08</td>\n",
       "    </tr>\n",
       "  </tbody>\n",
       "</table>\n",
       "</div>"
      ],
      "text/plain": [
       "       ENTRIES_DIFF    EXITS_DIFF\n",
       "count  1.125958e+07  1.125958e+07\n",
       "mean   2.083340e+03  1.546934e+03\n",
       "std    8.619143e+05  8.719271e+05\n",
       "min    0.000000e+00  0.000000e+00\n",
       "25%    2.000000e+00  1.000000e+00\n",
       "50%    5.200000e+01  3.700000e+01\n",
       "75%    2.100000e+02  1.450000e+02\n",
       "max    9.314769e+08  9.719247e+08"
      ]
     },
     "execution_count": 21,
     "metadata": {},
     "output_type": "execute_result"
    }
   ],
   "source": [
    "proc_sorted_diff_df[['ENTRIES_DIFF', 'EXITS_DIFF']].describe()"
   ]
  },
  {
   "cell_type": "markdown",
   "metadata": {},
   "source": [
    "From the distribution, we can see that there are extreme values (the maximum). \n",
    "We alleviate this by removing values that are above 99.99 percentile."
   ]
  },
  {
   "cell_type": "code",
   "execution_count": 22,
   "metadata": {
    "collapsed": true
   },
   "outputs": [],
   "source": [
    "proc_sorted_diff_df = filter_outliers(proc_sorted_diff_df)"
   ]
  },
  {
   "cell_type": "code",
   "execution_count": 23,
   "metadata": {},
   "outputs": [
    {
     "data": {
      "text/html": [
       "<div>\n",
       "<style>\n",
       "    .dataframe thead tr:only-child th {\n",
       "        text-align: right;\n",
       "    }\n",
       "\n",
       "    .dataframe thead th {\n",
       "        text-align: left;\n",
       "    }\n",
       "\n",
       "    .dataframe tbody tr th {\n",
       "        vertical-align: top;\n",
       "    }\n",
       "</style>\n",
       "<table border=\"1\" class=\"dataframe\">\n",
       "  <thead>\n",
       "    <tr style=\"text-align: right;\">\n",
       "      <th></th>\n",
       "      <th>ENTRIES_DIFF</th>\n",
       "      <th>EXITS_DIFF</th>\n",
       "    </tr>\n",
       "  </thead>\n",
       "  <tbody>\n",
       "    <tr>\n",
       "      <th>count</th>\n",
       "      <td>1.125846e+07</td>\n",
       "      <td>1.125809e+07</td>\n",
       "    </tr>\n",
       "    <tr>\n",
       "      <th>mean</th>\n",
       "      <td>1.575224e+02</td>\n",
       "      <td>1.232495e+02</td>\n",
       "    </tr>\n",
       "    <tr>\n",
       "      <th>std</th>\n",
       "      <td>2.505864e+02</td>\n",
       "      <td>2.240142e+02</td>\n",
       "    </tr>\n",
       "    <tr>\n",
       "      <th>min</th>\n",
       "      <td>0.000000e+00</td>\n",
       "      <td>0.000000e+00</td>\n",
       "    </tr>\n",
       "    <tr>\n",
       "      <th>25%</th>\n",
       "      <td>2.000000e+00</td>\n",
       "      <td>1.000000e+00</td>\n",
       "    </tr>\n",
       "    <tr>\n",
       "      <th>50%</th>\n",
       "      <td>5.200000e+01</td>\n",
       "      <td>3.700000e+01</td>\n",
       "    </tr>\n",
       "    <tr>\n",
       "      <th>75%</th>\n",
       "      <td>2.100000e+02</td>\n",
       "      <td>1.450000e+02</td>\n",
       "    </tr>\n",
       "    <tr>\n",
       "      <th>max</th>\n",
       "      <td>3.524000e+03</td>\n",
       "      <td>3.524000e+03</td>\n",
       "    </tr>\n",
       "  </tbody>\n",
       "</table>\n",
       "</div>"
      ],
      "text/plain": [
       "       ENTRIES_DIFF    EXITS_DIFF\n",
       "count  1.125846e+07  1.125809e+07\n",
       "mean   1.575224e+02  1.232495e+02\n",
       "std    2.505864e+02  2.240142e+02\n",
       "min    0.000000e+00  0.000000e+00\n",
       "25%    2.000000e+00  1.000000e+00\n",
       "50%    5.200000e+01  3.700000e+01\n",
       "75%    2.100000e+02  1.450000e+02\n",
       "max    3.524000e+03  3.524000e+03"
      ]
     },
     "execution_count": 23,
     "metadata": {},
     "output_type": "execute_result"
    }
   ],
   "source": [
    "proc_sorted_diff_df[['ENTRIES_DIFF', 'EXITS_DIFF']].describe()"
   ]
  },
  {
   "cell_type": "markdown",
   "metadata": {},
   "source": [
    "After the outliers are removed, we can see  that there aren't any extreme values."
   ]
  },
  {
   "cell_type": "code",
   "execution_count": 24,
   "metadata": {
    "collapsed": true
   },
   "outputs": [],
   "source": [
    "aug_first = proc_sorted_diff_df[proc_sorted_diff_df.DATE == '08-01-13']\n",
    "aug_first_entries_exits = aug_first.ENTRIES_DIFF.sum() + aug_first.EXITS_DIFF.sum()"
   ]
  },
  {
   "cell_type": "code",
   "execution_count": 25,
   "metadata": {},
   "outputs": [
    {
     "data": {
      "text/plain": [
       "9887974.0"
      ]
     },
     "execution_count": 25,
     "metadata": {},
     "output_type": "execute_result"
    }
   ],
   "source": [
    "aug_first_entries_exits"
   ]
  },
  {
   "cell_type": "markdown",
   "metadata": {},
   "source": [
    "**Result:** There are 9,887,974 total number of entries & exits across the subway system for August 1, 2013."
   ]
  },
  {
   "cell_type": "markdown",
   "metadata": {},
   "source": [
    "**Method:**  \n",
    "1. Data ingestion (read all of 2013 data) - *read_2013_data(data_links)*  \n",
    "2. Process and clean - *process_sorted_diff_df_2013(data_links)*  \n",
    "3. Subset processed data by august 1 and sum the busyness"
   ]
  },
  {
   "cell_type": "markdown",
   "metadata": {},
   "source": [
    "### Let’s define the busy-ness as sum of entry & exit count. What station was the busiest on August 1, 2013? What turnstile was the busiest on that date?"
   ]
  },
  {
   "cell_type": "code",
   "execution_count": 26,
   "metadata": {
    "collapsed": true
   },
   "outputs": [],
   "source": [
    "aug_first['BUSYNESS'] = aug_first.ENTRIES_DIFF + aug_first.EXITS_DIFF"
   ]
  },
  {
   "cell_type": "code",
   "execution_count": 27,
   "metadata": {
    "collapsed": true
   },
   "outputs": [],
   "source": [
    "def top_busyness(df, var):\n",
    "    \"\"\"\n",
    "    Sum the busyness by a given variable and return the busiest.\n",
    "    \"\"\"\n",
    "    df_busy = df.groupby(var)['BUSYNESS'].sum()\n",
    "    output = df_busy.sort_values(ascending = False).index[0]\n",
    "    \n",
    "    return output"
   ]
  },
  {
   "cell_type": "code",
   "execution_count": 28,
   "metadata": {},
   "outputs": [
    {
     "data": {
      "text/plain": [
       "'34 ST-PENN STA'"
      ]
     },
     "execution_count": 28,
     "metadata": {},
     "output_type": "execute_result"
    }
   ],
   "source": [
    "top_busyness(aug_first, 'STATION')"
   ]
  },
  {
   "cell_type": "code",
   "execution_count": 29,
   "metadata": {},
   "outputs": [
    {
     "data": {
      "text/plain": [
       "'R249_R179_01-00-09'"
      ]
     },
     "execution_count": 29,
     "metadata": {},
     "output_type": "execute_result"
    }
   ],
   "source": [
    "top_busyness(aug_first, 'TURNSTILE')"
   ]
  },
  {
   "cell_type": "markdown",
   "metadata": {},
   "source": [
    "**Results:** The busiest station is '34 ST-PENN STA'. The busiest turnstile have the following information: C/A = R249, UNIT = R179, SCP = 01-00-09."
   ]
  },
  {
   "cell_type": "markdown",
   "metadata": {},
   "source": [
    "### What stations have seen the most usage growth/decline in 2013?"
   ]
  },
  {
   "cell_type": "code",
   "execution_count": 30,
   "metadata": {
    "collapsed": true
   },
   "outputs": [],
   "source": [
    "proc_sorted_diff_df['MONTH'] = [date[:2] for date in proc_sorted_diff_df.DATE]"
   ]
  },
  {
   "cell_type": "code",
   "execution_count": 31,
   "metadata": {
    "collapsed": true
   },
   "outputs": [],
   "source": [
    "proc_sorted_diff_df['BUSYNESS'] = proc_sorted_diff_df.ENTRIES_DIFF + proc_sorted_diff_df.EXITS_DIFF"
   ]
  },
  {
   "cell_type": "code",
   "execution_count": 32,
   "metadata": {
    "collapsed": true
   },
   "outputs": [],
   "source": [
    "station_month_busy = proc_sorted_diff_df.groupby(['STATION', \n",
    "                             'MONTH'])['BUSYNESS'].mean().reset_index()\n",
    "station_month_busy.MONTH = station_month_busy.MONTH.astype(float)"
   ]
  },
  {
   "cell_type": "code",
   "execution_count": 33,
   "metadata": {
    "collapsed": true
   },
   "outputs": [],
   "source": [
    "def slope_mon_busyness(df):\n",
    "    \"\"\"\n",
    "    Compute slope of month and busyness\n",
    "    \"\"\"\n",
    "    x = df['MONTH']\n",
    "    y = df['BUSYNESS']\n",
    "    x_bar = np.mean(x)\n",
    "    y_bar = np.mean(y)\n",
    "    \n",
    "    slope = sum((y-y_bar)*(x-x_bar))/(np.square(x - np.mean(x)).sum() + 1e-4)\n",
    "\n",
    "    return slope"
   ]
  },
  {
   "cell_type": "code",
   "execution_count": 34,
   "metadata": {
    "collapsed": true
   },
   "outputs": [],
   "source": [
    "station_monthly_trend = station_month_busy.groupby(\n",
    "    'STATION').apply(\n",
    "    slope_mon_busyness)"
   ]
  },
  {
   "cell_type": "code",
   "execution_count": 35,
   "metadata": {
    "collapsed": true
   },
   "outputs": [],
   "source": [
    "sorted_station_month_busy = station_monthly_trend.sort_values(\n",
    "    ascending = False).index"
   ]
  },
  {
   "cell_type": "code",
   "execution_count": 36,
   "metadata": {},
   "outputs": [
    {
     "data": {
      "text/plain": [
       "'E TREMONT AVE'"
      ]
     },
     "execution_count": 36,
     "metadata": {},
     "output_type": "execute_result"
    }
   ],
   "source": [
    "sorted_station_month_busy[0]"
   ]
  },
  {
   "cell_type": "code",
   "execution_count": 37,
   "metadata": {},
   "outputs": [
    {
     "data": {
      "text/plain": [
       "'DYCKMAN ST'"
      ]
     },
     "execution_count": 37,
     "metadata": {},
     "output_type": "execute_result"
    }
   ],
   "source": [
    "sorted_station_month_busy[-1]"
   ]
  },
  {
   "cell_type": "markdown",
   "metadata": {},
   "source": [
    "**Result:** The station that has the most growth in 2013 is 'E TREMONT AVE' and the station with a decline growth is 'DYCKMAN ST'. "
   ]
  },
  {
   "cell_type": "markdown",
   "metadata": {},
   "source": [
    "**Method:**  \n",
    "1. Take the average of 'busyness' by month and station.  \n",
    "2. Find the average growth or decline of station for each increase in month. The slope was used to estimate this relationship. "
   ]
  },
  {
   "cell_type": "markdown",
   "metadata": {},
   "source": [
    "### What dates in 2013 are the least busy? Could you identify days in 2013 on which stations were not operating at full capacity or closed entirely?"
   ]
  },
  {
   "cell_type": "code",
   "execution_count": 38,
   "metadata": {
    "collapsed": true
   },
   "outputs": [],
   "source": [
    "date_busyness = proc_sorted_diff_df.groupby(\n",
    "    'DATE')['BUSYNESS'].mean()"
   ]
  },
  {
   "cell_type": "code",
   "execution_count": 39,
   "metadata": {
    "collapsed": true
   },
   "outputs": [],
   "source": [
    "least_busy_dates = date_busyness.sort_values(ascending = False).index[-3:].tolist()\n",
    "least_busy_dates.reverse()"
   ]
  },
  {
   "cell_type": "code",
   "execution_count": 40,
   "metadata": {
    "collapsed": true
   },
   "outputs": [],
   "source": [
    "date_busyness_df = date_busyness.reset_index()\n",
    "date_busyness_df['DATE'] = pd.to_datetime(date_busyness_df['DATE'], infer_datetime_format = True)\n",
    "date_busyness_df['WEEKDAY'] = date_busyness_df.DATE.dt.weekday_name"
   ]
  },
  {
   "cell_type": "code",
   "execution_count": 41,
   "metadata": {},
   "outputs": [
    {
     "data": {
      "text/plain": [
       "['12-25-13', '01-01-13', '02-24-13']"
      ]
     },
     "execution_count": 41,
     "metadata": {},
     "output_type": "execute_result"
    }
   ],
   "source": [
    "least_busy_dates"
   ]
  },
  {
   "cell_type": "code",
   "execution_count": 42,
   "metadata": {},
   "outputs": [
    {
     "data": {
      "text/plain": [
       "WEEKDAY\n",
       "Sunday       172.080379\n",
       "Saturday     211.466079\n",
       "Monday       295.533157\n",
       "Tuesday      314.884672\n",
       "Thursday     319.436234\n",
       "Friday       321.234281\n",
       "Wednesday    322.787801\n",
       "Name: BUSYNESS, dtype: float64"
      ]
     },
     "execution_count": 42,
     "metadata": {},
     "output_type": "execute_result"
    }
   ],
   "source": [
    "date_busyness_df.groupby('WEEKDAY')['BUSYNESS'].mean().sort_values()"
   ]
  },
  {
   "cell_type": "markdown",
   "metadata": {},
   "source": [
    "**Results:** The least busy dates in 2013 are: December 25, January 1st, and February 24. The days that are not operating at full capacity are Saturday and Sunday. "
   ]
  },
  {
   "cell_type": "markdown",
   "metadata": {},
   "source": [
    "**Method**:  \n",
    "1. Average busyness by date and sort the least three busy dates.  \n",
    "3. Average busyness by weekday and sort the least busy weekdays."
   ]
  },
  {
   "cell_type": "markdown",
   "metadata": {},
   "source": [
    "### Plot the daily row counts for data files in Q3 2013."
   ]
  },
  {
   "cell_type": "code",
   "execution_count": 43,
   "metadata": {
    "collapsed": true
   },
   "outputs": [],
   "source": [
    "# Quarter 3 is defined as the months of July, August, and September. \n",
    "\n",
    "df_Q3 = proc_sorted_diff_df[(proc_sorted_diff_df.DATE >='07-01-13') & \n",
    "                    (proc_sorted_diff_df.DATE <='09-30-13')]"
   ]
  },
  {
   "cell_type": "code",
   "execution_count": 44,
   "metadata": {
    "collapsed": true
   },
   "outputs": [],
   "source": [
    "date_counts = df_Q3.DATE.value_counts(sort = False)\n",
    "sorted_date_counts = date_counts.sort_index()"
   ]
  },
  {
   "cell_type": "code",
   "execution_count": 45,
   "metadata": {},
   "outputs": [
    {
     "data": {
      "image/png": "[encoded data removed]",
      "text/plain": [
       "<matplotlib.figure.Figure at 0x1a5462b4e0>"
      ]
     },
     "metadata": {},
     "output_type": "display_data"
    }
   ],
   "source": [
    "import matplotlib.dates as mdates\n",
    "plt.style.use(['ggplot'])\n",
    "ax = sorted_date_counts.plot();\n",
    "fig = plt.gcf()\n",
    "fig.set_size_inches(10, 4, forward = True)\n",
    "\n",
    "plt.xlabel('Date')\n",
    "plt.ylabel('Row Counts')\n",
    "plt.title('Figure 1. Daily Row Counts in Third Quarter of 2013', fontsize = 13)\n",
    "\n",
    "plt.show()"
   ]
  },
  {
   "cell_type": "markdown",
   "metadata": {},
   "source": [
    "### Plot the daily total number of entries & exits across the system for Q3 2013."
   ]
  },
  {
   "cell_type": "code",
   "execution_count": 46,
   "metadata": {
    "collapsed": true
   },
   "outputs": [],
   "source": [
    "# sum all entries and exits by date\n",
    "total_entries_exits = df_Q3.groupby('DATE')[[\n",
    "    'ENTRIES_DIFF', 'EXITS_DIFF']].sum()/(1e6)\n",
    "total_entries_exits.columns = ['Total Entries', 'Total Exits']"
   ]
  },
  {
   "cell_type": "code",
   "execution_count": 47,
   "metadata": {},
   "outputs": [
    {
     "data": {
      "image/png": "[encoded data removed]",
      "text/plain": [
       "<matplotlib.figure.Figure at 0x1a5462b0b8>"
      ]
     },
     "metadata": {},
     "output_type": "display_data"
    }
   ],
   "source": [
    "total_entries_exits.plot()\n",
    "fig = plt.gcf()\n",
    "fig.set_size_inches(10, 4, forward = True)\n",
    "\n",
    "leg = plt.legend(bbox_to_anchor=(1.05, 1), \n",
    "           loc=2, borderaxespad=0., framealpha = 0)\n",
    "\n",
    "for text in leg.get_texts():\n",
    "    plt.setp(text, color = 'k')\n",
    "\n",
    "plt.xlabel('Date')\n",
    "plt.ylabel('Count (Millions)')\n",
    "plt.title('Figure 2. Daily Total Number of Entries & Exits', fontsize = 13)\n",
    "\n",
    "plt.show()"
   ]
  },
  {
   "cell_type": "markdown",
   "metadata": {},
   "source": [
    "### Plot the mean and standard deviation of the daily total number of entries & exits for each month in Q3 2013 for station 34 ST-PENN STA."
   ]
  },
  {
   "cell_type": "code",
   "execution_count": 48,
   "metadata": {
    "collapsed": true
   },
   "outputs": [],
   "source": [
    "# subset the data by '34 ST-PENN STA'\n",
    "df_Q3_penn = df_Q3[df_Q3['STATION'] == '34 ST-PENN STA']"
   ]
  },
  {
   "cell_type": "code",
   "execution_count": 49,
   "metadata": {
    "collapsed": true
   },
   "outputs": [],
   "source": [
    "# sum all entries and exits by date\n",
    "total_entries_exits_penn = df_Q3_penn.groupby('DATE')[[\n",
    "    'ENTRIES_DIFF', 'EXITS_DIFF']].sum()\n",
    "total_entries_exits_penn.columns = ['Total Entries', 'Total Exits']\n",
    "\n",
    "# extract month from date\n",
    "total_entries_exits_penn['MONTH'] = pd.to_datetime(\n",
    "    total_entries_exits_penn.index).month"
   ]
  },
  {
   "cell_type": "code",
   "execution_count": 50,
   "metadata": {
    "collapsed": true
   },
   "outputs": [],
   "source": [
    "# compute mean and standard deviation by month\n",
    "grouped = total_entries_exits_penn.groupby('MONTH')\n",
    "mean_entries = grouped['Total Entries'].mean()\n",
    "sd_entries = grouped['Total Entries'].std()\n",
    "\n",
    "mean_exits = grouped['Total Exits'].mean()\n",
    "sd_exits = grouped['Total Exits'].std()"
   ]
  },
  {
   "cell_type": "code",
   "execution_count": 51,
   "metadata": {
    "collapsed": true
   },
   "outputs": [],
   "source": [
    "mean_sd_df = pd.DataFrame([mean_entries, sd_entries, mean_exits, sd_exits]).T\n",
    "mean_sd_df.columns = ['Mean_Entries', 'Sd_Entries', \n",
    "                      'Mean_Exits', 'Sd_Exits']\n",
    "mean_sd_df = mean_sd_df.reset_index()"
   ]
  },
  {
   "cell_type": "code",
   "execution_count": 52,
   "metadata": {},
   "outputs": [
    {
     "data": {
      "image/png": "[encoded data removed]",
      "text/plain": [
       "<matplotlib.figure.Figure at 0x1a5949fbe0>"
      ]
     },
     "metadata": {},
     "output_type": "display_data"
    }
   ],
   "source": [
    "fig = plt.gcf()\n",
    "fig.set_size_inches(7, 4, forward = True)\n",
    "\n",
    "plt.errorbar(mean_sd_df['MONTH'],\n",
    "             mean_sd_df['Mean_Entries'],\n",
    "             mean_sd_df['Sd_Entries'], \n",
    "             fmt = 'o', \n",
    "             markersize = 8, \n",
    "             capsize = 10, \n",
    "             label = 'Daily Entries')\n",
    "\n",
    "plt.errorbar(mean_sd_df['MONTH'],\n",
    "             mean_sd_df['Mean_Exits'],\n",
    "             mean_sd_df['Sd_Exits'], \n",
    "             fmt = 'o', \n",
    "             markersize = 8, \n",
    "             capsize = 10, \n",
    "             label = 'Daily Exits')\n",
    "\n",
    "leg = plt.legend(bbox_to_anchor=(1.05, 1), \n",
    "           loc=2, borderaxespad=0., framealpha = 0)\n",
    "\n",
    "for text in leg.get_texts():\n",
    "    plt.setp(text, color = 'k')\n",
    "    \n",
    "plt.xticks([6,7,8,9, 10], ['Jun','Jul', 'Aug', 'Sep', 'Oct'])\n",
    "plt.xlabel('Month')\n",
    "plt.ylabel('Daily Counts')\n",
    "plt.title('Figure 3. Mean and Std of Entry and Exit Counts for 34 ST-PENN STA',\n",
    "         fontsize = 13)\n",
    "plt.show()"
   ]
  },
  {
   "cell_type": "markdown",
   "metadata": {},
   "source": [
    "### Plot 25/50/75 percentile of the daily total number of entries & exits for each month in Q3 2013 for station 34 ST-PENN STA."
   ]
  },
  {
   "cell_type": "code",
   "execution_count": 53,
   "metadata": {
    "collapsed": true
   },
   "outputs": [],
   "source": [
    "def prep_box_dat(total_entries_exits_penn, var):\n",
    "    \"\"\"\n",
    "    Reformat the data with each row corresponding to the daily \n",
    "    sum of entries/exits for that month.\n",
    "    \"\"\"\n",
    "    df_box = []\n",
    "    for m in [7,8,9]:\n",
    "        df_box.append(total_entries_exits_penn[var][\n",
    "            total_entries_exits_penn.MONTH == m].reset_index(drop = True))\n",
    "    df_mon = pd.concat(df_box, axis = 1)\n",
    "    df_mon = df_mon.dropna().T\n",
    "    \n",
    "    return df_mon"
   ]
  },
  {
   "cell_type": "code",
   "execution_count": 54,
   "metadata": {},
   "outputs": [
    {
     "data": {
      "image/png": "[encoded data removed]",
      "text/plain": [
       "<matplotlib.figure.Figure at 0x11b82e7b8>"
      ]
     },
     "metadata": {},
     "output_type": "display_data"
    }
   ],
   "source": [
    "# boxplots\n",
    "\n",
    "fig = plt.gcf()\n",
    "fig.set_size_inches(11, 4, forward = True)\n",
    "\n",
    "plt.subplot(1, 2, 1)\n",
    "\n",
    "bp1 = plt.boxplot(prep_box_dat(total_entries_exits_penn, 'Total Entries')/1000)\n",
    "\n",
    "for box in bp1['boxes']:\n",
    "    box.set(color = 'b')\n",
    "    \n",
    "for median in bp1['medians']:\n",
    "    median.set(color = 'gray')\n",
    "plt.xlabel('Month')\n",
    "plt.ylabel('Entry Counts (Thousands)', fontsize = 10)\n",
    "plt.xticks([1, 2, 3], ['Jul', 'Aug', 'Sep'])\n",
    "\n",
    "plt.subplot(1, 2, 2)\n",
    "\n",
    "bp2 = plt.boxplot(prep_box_dat(total_entries_exits_penn, 'Total Exits')/1000)\n",
    "\n",
    "for box in bp2['boxes']:\n",
    "    box.set(color = 'r')\n",
    "\n",
    "for median in bp2['medians']:\n",
    "    median.set(color = 'gray')\n",
    "\n",
    "plt.xlabel('Month')\n",
    "plt.ylabel('Exit Counts (Thousands)', fontsize = 10)\n",
    "plt.xticks([1, 2, 3], ['Jul', 'Aug', 'Sep'])\n",
    "\n",
    "plt.suptitle('Figure 4. Boxplot of Entry and Exit Counts for Third Quarter 2013', \n",
    "             fontsize = 13)\n",
    "plt.show()\n"
   ]
  },
  {
   "cell_type": "markdown",
   "metadata": {},
   "source": [
    "### Plot the daily number of closed stations and number of stations that were not operating at full capacity in Q3 2013."
   ]
  },
  {
   "cell_type": "code",
   "execution_count": 55,
   "metadata": {
    "collapsed": true
   },
   "outputs": [],
   "source": [
    "closed_df_Q3 = df_Q3[df_Q3.DESC == 'DOOR CLOSE']"
   ]
  },
  {
   "cell_type": "code",
   "execution_count": 56,
   "metadata": {},
   "outputs": [
    {
     "name": "stdout",
     "output_type": "stream",
     "text": [
      "7.0\n"
     ]
    }
   ],
   "source": [
    "\"\"\"\n",
    "The closed and low capacity busy-ness thresholds were arbitrarily set. \n",
    "The closed threshold was set by subsetting the quarter 3 data by 'DOOR CLOSED' \n",
    "and using the 90th percentile. The low capacity threshold was set by 25th \n",
    "percentile of quarter 3 busy-ness.\n",
    "\"\"\"\n",
    "closed_thresh = np.percentile(closed_df_Q3.BUSYNESS.dropna(), 90)\n",
    "closed_df_Q3 = closed_df_Q3[closed_df_Q3<=closed_thresh]\n",
    "print(closed_thresh)"
   ]
  },
  {
   "cell_type": "code",
   "execution_count": 57,
   "metadata": {},
   "outputs": [
    {
     "name": "stdout",
     "output_type": "stream",
     "text": [
      "10.0\n"
     ]
    }
   ],
   "source": [
    "low_cap_thresh = np.percentile(df_Q3['BUSYNESS'].dropna(), 25)\n",
    "low_cap_df_Q3 = df_Q3[(df_Q3.BUSYNESS <= low_cap_thresh)&\n",
    "                     (df_Q3.BUSYNESS >= closed_thresh)]\n",
    "print(low_cap_thresh)"
   ]
  },
  {
   "cell_type": "code",
   "execution_count": 58,
   "metadata": {},
   "outputs": [
    {
     "data": {
      "image/png": "[encoded data removed]",
      "text/plain": [
       "<matplotlib.figure.Figure at 0x1a59472748>"
      ]
     },
     "metadata": {},
     "output_type": "display_data"
    }
   ],
   "source": [
    "fig = plt.gcf()\n",
    "fig.set_size_inches(10, 4, forward = True)\n",
    "\n",
    "\n",
    "closed_df_Q3.groupby('DATE')['STATION'].nunique().plot(label = 'Closed Stations')\n",
    "low_cap_df_Q3.groupby('DATE')['STATION'].nunique().plot(label = 'Low Capacity Stations')\n",
    "\n",
    "leg = plt.legend(bbox_to_anchor=(1.0, 1), \n",
    "           loc=2, borderaxespad=0., framealpha = 0)\n",
    "\n",
    "for text in leg.get_texts():\n",
    "    plt.setp(text, color = 'k')\n",
    "plt.xlabel('Date')\n",
    "plt.ylabel('Counts')\n",
    "plt.title('Figure 5. Closed and Low Capacity Station Counts')\n",
    "plt.show()"
   ]
  }
 ],
 "metadata": {
  "kernelspec": {
   "display_name": "Python 3",
   "language": "python",
   "name": "python3"
  },
  "language_info": {
   "codemirror_mode": {
    "name": "ipython",
    "version": 3
   },
   "file_extension": ".py",
   "mimetype": "text/x-python",
   "name": "python",
   "nbconvert_exporter": "python",
   "pygments_lexer": "ipython3",
   "version": "3.6.3"
  }
 },
 "nbformat": 4,
 "nbformat_minor": 2
}
